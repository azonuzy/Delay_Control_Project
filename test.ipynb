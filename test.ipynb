{
 "cells": [
  {
   "cell_type": "code",
   "execution_count": null,
   "metadata": {
    "collapsed": false
   },
   "outputs": [],
   "source": [
    "import matplotlib\n",
    "import numpy as np\n",
    "matplotlib.use('TkAgg')\n",
    "import matplotlib.pyplot as plt\n",
    "from matplotlib import ticker, cm\n",
    "import math\n",
    "#%matplotlib inline"
   ]
  },
  {
   "cell_type": "code",
   "execution_count": null,
   "metadata": {
    "collapsed": false
   },
   "outputs": [],
   "source": [
    "hw = np.arange(0, 0.15, 0.001)\n",
    "tau = np.arange(0, 5, 0.2)\n",
    "w = np.arange(0, np.pi*4, 0.1)\n",
    "kp = 45.0\n",
    "kv = 0.8"
   ]
  },
  {
   "cell_type": "code",
   "execution_count": null,
   "metadata": {
    "collapsed": false
   },
   "outputs": [],
   "source": [
    "Hw, Tau = np.meshgrid(hw, tau)\n",
    "m, n = Hw.shape\n",
    "H_jw = np.zeros((m,n), dtype = float)"
   ]
  },
  {
   "cell_type": "code",
   "execution_count": null,
   "metadata": {
    "collapsed": false
   },
   "outputs": [],
   "source": [
    "for i in range(Hw.shape[0]):\n",
    "    for j in range(Tau.shape[0]):\n",
    "        x = (kp**2 + (kv**2)*w**2)/((kp - np.cos(w*Tau[i,j])*w**2)**2 + (w*(kv+kp*Hw[i,j]) - np.sin(w*Tau[i,j]))**2)\n",
    "        a = math.sqrt(x.max())\n",
    "        if a > 1:\n",
    "            H_jw[i,j] = 1\n",
    "        else:\n",
    "            H_jw[i,j] = a"
   ]
  },
  {
   "cell_type": "code",
   "execution_count": null,
   "metadata": {
    "collapsed": false
   },
   "outputs": [],
   "source": [
    "fig, ax = plt.subplots()\n",
    "cs = ax.contourf(Hw, Tau, H_jw, cmap=cm.PuBu_r)\n",
    "cbar = fig.colorbar(cs)\n",
    "plt.xlabel('h_w')\n",
    "plt.ylabel('tau')\n",
    "plt.title('max of H(jw) with kv = 0.8 and kp = 45')\n",
    "plt.show()"
   ]
  }
 ],
 "metadata": {
  "kernelspec": {
   "display_name": "Python 3",
   "language": "python",
   "name": "python3"
  },
  "language_info": {
   "codemirror_mode": {
    "name": "ipython",
    "version": 3
   },
   "file_extension": ".py",
   "mimetype": "text/x-python",
   "name": "python",
   "nbconvert_exporter": "python",
   "pygments_lexer": "ipython3",
   "version": "3.6.5"
  }
 },
 "nbformat": 4,
 "nbformat_minor": 0
}
